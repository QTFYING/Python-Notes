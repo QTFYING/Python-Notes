{
 "cells": [
  {
   "cell_type": "code",
   "execution_count": 3,
   "metadata": {},
   "outputs": [
    {
     "ename": "ModuleNotFoundError",
     "evalue": "No module named 'pandas'",
     "output_type": "error",
     "traceback": [
      "\u001b[0;31m---------------------------------------------------------------------------\u001b[0m",
      "\u001b[0;31mModuleNotFoundError\u001b[0m                       Traceback (most recent call last)",
      "Cell \u001b[0;32mIn[3], line 1\u001b[0m\n\u001b[0;32m----> 1\u001b[0m \u001b[38;5;28;01mimport\u001b[39;00m \u001b[38;5;21;01mpandas\u001b[39;00m \u001b[38;5;28;01mas\u001b[39;00m \u001b[38;5;21;01mpd\u001b[39;00m\n\u001b[1;32m      2\u001b[0m \u001b[38;5;28;01mimport\u001b[39;00m \u001b[38;5;21;01mmatplotlib\u001b[39;00m\u001b[38;5;21;01m.\u001b[39;00m\u001b[38;5;21;01mpyplot\u001b[39;00m \u001b[38;5;28;01mas\u001b[39;00m \u001b[38;5;21;01mplt\u001b[39;00m\n\u001b[1;32m      4\u001b[0m \u001b[38;5;66;03m# 设置中文字体\u001b[39;00m\n",
      "\u001b[0;31mModuleNotFoundError\u001b[0m: No module named 'pandas'"
     ]
    }
   ],
   "source": [
    "import pandas as pd\n",
    "import matplotlib.pyplot as plt\n",
    "\n",
    "# 设置中文字体\n",
    "plt.rcParams['font.sans-serif'] = ['SimHei']\n",
    "plt.rcParams['axes.unicode_minus'] = False\n",
    "\n",
    "\n",
    "# 假设df为包含所有股票及其因子值的数据框\n",
    "# 以下数据皆为假定数据\n",
    "# 可以通过查询财报网获取\n",
    "\n",
    "# 市盈率（PE）= 股票价格/每股收益（EPS）\n",
    "\n",
    "# 市净率（PB）= 股票价格/每股净资产\n",
    "\n",
    "# 盈利增长率 = (当前期盈利−上期盈利)/上期盈利\n",
    "\n",
    "\n",
    "# 太极集团600129.SH TCL科技000100.SZ 京东方Ａ000725.SZ 三峡能源(600905.SH) 中远海控(601919.SH) 比亚迪(002594.SZ)\n",
    "\n",
    "df = pd.DataFrame({\n",
    "    'Stock': ['太极集团', 'TCL科技', '京东方Ａ', '三峡能源', '中远海控', '比亚迪'],\n",
    "    'PE_Ratio': [23.74, 27.13, 46.66, 18.73, 10.34, 24.15], # 代表股票的市盈率，是衡量股票价格相对于每股收益的比率，数值越低通常被认为估值越合理。\n",
    "    'PB_Ratio': [5.12, 1.52, 1.19, 1.58, 1.20, 5.15], # 代表股票的市净率，是衡量股票价格相对于每股净资产的比率，数值越低通常被认为风险越小。\n",
    "    'Earnings_Growth': [3.15, 1.84, 1.49, 1.92, 2.33, 2.93], # 代表股票的盈利增长率，表示公司盈利增长的速度，数值越高通常表示公司盈利能力越强。\n",
    "})\n",
    "\n",
    "\n",
    "# 定义因子权重\n",
    "factor_weights = {'PE_Ratio': -1, 'PB_Ratio': -1, 'Earnings_Growth': 1}\n",
    "\n",
    "# 计算综合评分\n",
    "df['Score'] = df[[col for col in factor_weights]].mul(list(factor_weights.values())).sum(axis=1)\n",
    "\n",
    "# 排序并展示前五名\n",
    "top_stocks = df.sort_values('Score', ascending=False).head()\n",
    "print(top_stocks[['Stock', 'Score']])\n",
    "\n",
    "# 绘制散点图,展示PE与PB的关系\n",
    "plt.figure(figsize=(10, 6))\n",
    "plt.scatter(df['PE_Ratio'], df['PB_Ratio'], c=df['Score'], cmap='viridis')\n",
    "plt.colorbar(label='综合评分')\n",
    "plt.xlabel('市盈率')\n",
    "plt.ylabel('市净率')\n",
    "plt.title('股票因子散点图')\n",
    "plt.show()"
   ]
  }
 ],
 "metadata": {
  "kernelspec": {
   "display_name": "Python 3",
   "language": "python",
   "name": "python3"
  },
  "language_info": {
   "codemirror_mode": {
    "name": "ipython",
    "version": 3
   },
   "file_extension": ".py",
   "mimetype": "text/x-python",
   "name": "python",
   "nbconvert_exporter": "python",
   "pygments_lexer": "ipython3",
   "version": "3.9.6"
  }
 },
 "nbformat": 4,
 "nbformat_minor": 2
}
