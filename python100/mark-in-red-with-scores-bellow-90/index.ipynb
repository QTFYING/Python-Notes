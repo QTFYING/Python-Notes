{
 "cells": [
  {
   "cell_type": "code",
   "execution_count": 1,
   "metadata": {},
   "outputs": [],
   "source": [
    "'''\n",
    "将xlsx文件夹下，功能使用量统计.xlsx文件夹中使用量低于90的标红\n",
    "'''\n",
    "\n",
    "# 引入 openpyxl 库\n",
    "from  openpyxl import load_workbook\n",
    "from openpyxl.styles.fonts import Font\n",
    "\n",
    "# 加载Excel文件，获取工作worksheet\n",
    "\n",
    "wb = load_workbook('./xlsx/功能使用量统计.xlsx')\n",
    "\n",
    "# 获取worksheet\n",
    "# worksheet 就是 Excel 的工作簿，详情请看下方的“Excel工作区图片解释”\n",
    "# 因为本例只有1个工作簿，所以用 active 可以获取当前活动的工作簿。\n",
    "\n",
    "ws = wb.active\n",
    "\n",
    "# 定义文本颜色（00FF0000表示红色）\n",
    "font_style = Font(color='00FF0000')\n",
    "\n",
    "# 遍历每一行，每一列。也就是遍历Excle的每一个单元格。\n",
    "# min_row=2: 从第2行开始\n",
    "# min_col=2: 从第2列开始\n",
    "# 因为第一行是表头，第一列是事件名称。这些数据都不是我们拿来判断是否大于100的。所以使用 min_row=2 和 min_col=2 跳过这些数据。\n",
    "for row in ws.iter_rows(min_row=2, min_col=2):\n",
    "    # 获取每一格\n",
    "    for cell in row:\n",
    "        # cell是单元格对象，要获取值需要访问 value 属性\n",
    "        if cell.value < 100:\n",
    "            # 判断如果 cell 中的值<100，标记为红色\n",
    "            cell.font = font_style\n",
    "\n",
    "# 保存文件，保存时需要指定文件名以及文件格式，也就是文件的后缀\n",
    "wb.save('./xlsx/功能使用量统计-modify.xlsx')\n",
    "# 保存完就关闭这个文件\n",
    "wb.close()"
   ]
  }
 ],
 "metadata": {
  "kernelspec": {
   "display_name": "Python 3 (ipykernel)",
   "language": "python",
   "name": "python3"
  },
  "language_info": {
   "codemirror_mode": {
    "name": "ipython",
    "version": 3
   },
   "file_extension": ".py",
   "mimetype": "text/x-python",
   "name": "python",
   "nbconvert_exporter": "python",
   "pygments_lexer": "ipython3",
   "version": "3.12.0"
  }
 },
 "nbformat": 4,
 "nbformat_minor": 2
}
