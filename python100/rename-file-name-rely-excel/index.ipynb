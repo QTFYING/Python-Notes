{
 "cells": [
  {
   "cell_type": "code",
   "execution_count": 2,
   "metadata": {},
   "outputs": [
    {
     "name": "stdout",
     "output_type": "stream",
     "text": [
      "重命名结束\n"
     ]
    }
   ],
   "source": [
    "'''\n",
    "根据excel文件，将assets文件夹下以身份证号命名的文件修改为姓名命名\n",
    "excel中为每个人的信息，第一列为身份证，第二列为姓名\n",
    "assets为每个人额的以身份证命名的图片\n",
    "'''\n",
    "import os\n",
    "import pandas as pd\n",
    "\n",
    "# 配置路径\n",
    "assets_folder = \"./assets\"\n",
    "excel_path = \"./xlsx/data.xlsx\"\n",
    "\n",
    "# 读取excel文件\n",
    "df = pd.read_excel(excel_path)\n",
    "file_list = os.listdir(assets_folder)\n",
    "\n",
    "for file in file_list:\n",
    "    file_id, file_extension = os.path.splitext(file)\n",
    "\n",
    "    for row in df.itertuples():\n",
    "        if file_id == str(row[1]):\n",
    "            new_name = f\"{row[2]}{file_extension}\"\n",
    "            print(f\"开始重命名: {id} -> {new_name}\")\n",
    "\n",
    "            # 构造旧文件名和新文件名的完整路径\n",
    "            old_path = os.path.join(assets_folder, file)\n",
    "            new_path = os.path.join(assets_folder, new_name)\n",
    "\n",
    "            # 确保文件存在在进行重命名操作\n",
    "            if os.path.exists(old_path):\n",
    "                os.rename(old_path, new_path)\n",
    "            else:\n",
    "                print(f\"文件 {file} 不存在, 无法重命名\")\n",
    "print(\"重命名结束\")"
   ]
  }
 ],
 "metadata": {
  "kernelspec": {
   "display_name": "Python 3 (ipykernel)",
   "language": "python",
   "name": "python3"
  },
  "language_info": {
   "codemirror_mode": {
    "name": "ipython",
    "version": 3
   },
   "file_extension": ".py",
   "mimetype": "text/x-python",
   "name": "python",
   "nbconvert_exporter": "python",
   "pygments_lexer": "ipython3",
   "version": "3.9.6"
  }
 },
 "nbformat": 4,
 "nbformat_minor": 2
}
