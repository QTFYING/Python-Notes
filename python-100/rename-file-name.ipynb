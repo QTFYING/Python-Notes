{
 "cells": [
  {
   "cell_type": "code",
   "execution_count": null,
   "metadata": {},
   "outputs": [
    {
     "ename": "",
     "evalue": "",
     "output_type": "error",
     "traceback": [
      "\u001b[1;31m运行具有“Python 3.12.0”的单元格需要ipykernel包。\n",
      "\u001b[1;31m运行以下命令，将 \"ipykernel\" 安装到 Python 环境中。\n",
      "\u001b[1;31m命令: \"/Users/mayapeng/.pyenv/versions/3.12.0/bin/python -m pip install ipykernel -U --force-reinstall\""
     ]
    }
   ],
   "source": [
    "'''\n",
    "根据excel文件，将assets文件夹下以身份证号命名的文件修改为姓名命名\n",
    "excel中为每个人的信息，第一列为身份证，第二列为姓名\n",
    "assets为每个人额的以身份证命名的图片\n",
    "'''\n",
    "import os\n",
    "import pandas as pd\n",
    "\n",
    "# 配置路径\n",
    "assets_folder = \"../assets\"\n",
    "excel_path = \"../xlsx/data.xlsx\"\n",
    "\n",
    "# 读取excel文件\n",
    "df = pd.read_excel(excel_path)\n",
    "file_list = os.listdir(assets_folder)\n",
    "\n",
    "for file in file_list:\n",
    "    file_id, file_extension = os.path.splitext(file)\n",
    "\n",
    "    for row in df.itertuples():\n",
    "        if file_id == str(row[1]):\n",
    "            new_name = f\"{row[2]}{file_extension}\"\n",
    "            print(f\"开始重命名: {id} -> {new_name}\")\n",
    "\n",
    "            # 构造旧文件名和新文件名的完整路径\n",
    "            old_path = os.path.join(assets_folder, file)\n",
    "            new_path = os.path.join(assets_folder, new_name)\n",
    "\n",
    "            # 确保文件存在在进行重命名操作\n",
    "            if os.path.exists(old_path):\n",
    "                os.rename(old_path, new_path)\n",
    "            else:\n",
    "                print(f\"文件 {file} 不存在, 无法重命名\")\n",
    "print(\"重命名结束\")"
   ]
  }
 ],
 "metadata": {
  "kernelspec": {
   "display_name": "Python 3",
   "language": "python",
   "name": "python3"
  },
  "language_info": {
   "name": "python",
   "version": "3.12.0"
  }
 },
 "nbformat": 4,
 "nbformat_minor": 2
}
