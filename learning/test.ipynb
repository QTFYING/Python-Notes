{
 "cells": [
  {
   "cell_type": "code",
   "execution_count": 8,
   "metadata": {},
   "outputs": [
    {
     "name": "stdout",
     "output_type": "stream",
     "text": [
      "[1, 4, 9, 16, 25, 36, 49, 64, 81, 100, 121, 144, 169, 196, 225, 256, 289, 324, 361, 400]\n"
     ]
    }
   ],
   "source": [
    "import pandas as pd\n",
    "\n",
    "data = 'https://www.gairuo.com/file/data/dataset/team.xlsx'\n",
    "df = pd.read_excel(data, index_col='name') # 将索引设置为name\n",
    "df = pd.read_excel(data) # 读取数据不设索引\n",
    "df.set_index('name') # 设置索引\n",
    "df.set_index(['name', 'team']) # 设置两层索引\n",
    "df.set_index([df.name.str[0],'name']) # 将姓名的第一个字母和姓名设置为索引\n",
    "df = df.set_index('name') # 建立索引并重写覆盖df\n",
    "df.set_index('name', inplace=True) # 同上，使索引生效"
   ]
  }
 ],
 "metadata": {
  "kernelspec": {
   "display_name": "Python 3",
   "language": "python",
   "name": "python3"
  },
  "language_info": {
   "codemirror_mode": {
    "name": "ipython",
    "version": 3
   },
   "file_extension": ".py",
   "mimetype": "text/x-python",
   "name": "python",
   "nbconvert_exporter": "python",
   "pygments_lexer": "ipython3",
   "version": "3.12.0"
  }
 },
 "nbformat": 4,
 "nbformat_minor": 2
}
